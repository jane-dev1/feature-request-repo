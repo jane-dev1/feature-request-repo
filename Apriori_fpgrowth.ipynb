{
  "cells": [
    {
      "cell_type": "markdown",
      "metadata": {
        "id": "Gjk3JiU6ZOuG"
      },
      "source": [
        "\n",
        "\n",
        "> AntecedentSupport= No of transactions containing antecedent/total no of transactions​\n",
        "\n"
      ]
    },
    {
      "cell_type": "markdown",
      "metadata": {
        "id": "oEDJlhj7ZqBb"
      },
      "source": [
        "##Apriori"
      ]
    },
    {
      "cell_type": "code",
      "execution_count": 13,
      "metadata": {
        "colab": {
          "base_uri": "https://localhost:8080/"
        },
        "id": "RvA7L5Tlf0kl",
        "outputId": "f9fc482f-019f-46d6-a4f1-4315df45337a"
      },
      "outputs": [
        {
          "name": "stdout",
          "output_type": "stream",
          "text": [
            "Requirement already satisfied: mlxtend in c:\\users\\acer\\appdata\\local\\packages\\pythonsoftwarefoundation.python.3.11_qbz5n2kfra8p0\\localcache\\local-packages\\python311\\site-packages (0.23.3)\n",
            "Requirement already satisfied: scipy>=1.2.1 in c:\\users\\acer\\appdata\\local\\packages\\pythonsoftwarefoundation.python.3.11_qbz5n2kfra8p0\\localcache\\local-packages\\python311\\site-packages (from mlxtend) (1.14.1)\n",
            "Requirement already satisfied: numpy>=1.16.2 in c:\\users\\acer\\appdata\\local\\packages\\pythonsoftwarefoundation.python.3.11_qbz5n2kfra8p0\\localcache\\local-packages\\python311\\site-packages (from mlxtend) (1.26.3)\n",
            "Requirement already satisfied: pandas>=0.24.2 in c:\\users\\acer\\appdata\\local\\packages\\pythonsoftwarefoundation.python.3.11_qbz5n2kfra8p0\\localcache\\local-packages\\python311\\site-packages (from mlxtend) (2.2.3)\n",
            "Requirement already satisfied: scikit-learn>=1.3.1 in c:\\users\\acer\\appdata\\local\\packages\\pythonsoftwarefoundation.python.3.11_qbz5n2kfra8p0\\localcache\\local-packages\\python311\\site-packages (from mlxtend) (1.6.0)\n",
            "Requirement already satisfied: matplotlib>=3.0.0 in c:\\users\\acer\\appdata\\local\\packages\\pythonsoftwarefoundation.python.3.11_qbz5n2kfra8p0\\localcache\\local-packages\\python311\\site-packages (from mlxtend) (3.8.2)\n",
            "Requirement already satisfied: joblib>=0.13.2 in c:\\users\\acer\\appdata\\local\\packages\\pythonsoftwarefoundation.python.3.11_qbz5n2kfra8p0\\localcache\\local-packages\\python311\\site-packages (from mlxtend) (1.4.2)\n",
            "Requirement already satisfied: contourpy>=1.0.1 in c:\\users\\acer\\appdata\\local\\packages\\pythonsoftwarefoundation.python.3.11_qbz5n2kfra8p0\\localcache\\local-packages\\python311\\site-packages (from matplotlib>=3.0.0->mlxtend) (1.2.0)\n",
            "Requirement already satisfied: cycler>=0.10 in c:\\users\\acer\\appdata\\local\\packages\\pythonsoftwarefoundation.python.3.11_qbz5n2kfra8p0\\localcache\\local-packages\\python311\\site-packages (from matplotlib>=3.0.0->mlxtend) (0.12.1)\n",
            "Requirement already satisfied: fonttools>=4.22.0 in c:\\users\\acer\\appdata\\local\\packages\\pythonsoftwarefoundation.python.3.11_qbz5n2kfra8p0\\localcache\\local-packages\\python311\\site-packages (from matplotlib>=3.0.0->mlxtend) (4.47.2)\n",
            "Requirement already satisfied: kiwisolver>=1.3.1 in c:\\users\\acer\\appdata\\local\\packages\\pythonsoftwarefoundation.python.3.11_qbz5n2kfra8p0\\localcache\\local-packages\\python311\\site-packages (from matplotlib>=3.0.0->mlxtend) (1.4.5)\n",
            "Requirement already satisfied: packaging>=20.0 in c:\\users\\acer\\appdata\\local\\packages\\pythonsoftwarefoundation.python.3.11_qbz5n2kfra8p0\\localcache\\local-packages\\python311\\site-packages (from matplotlib>=3.0.0->mlxtend) (23.2)\n",
            "Requirement already satisfied: pillow>=8 in c:\\users\\acer\\appdata\\local\\packages\\pythonsoftwarefoundation.python.3.11_qbz5n2kfra8p0\\localcache\\local-packages\\python311\\site-packages (from matplotlib>=3.0.0->mlxtend) (10.2.0)\n",
            "Requirement already satisfied: pyparsing>=2.3.1 in c:\\users\\acer\\appdata\\local\\packages\\pythonsoftwarefoundation.python.3.11_qbz5n2kfra8p0\\localcache\\local-packages\\python311\\site-packages (from matplotlib>=3.0.0->mlxtend) (3.1.1)\n",
            "Requirement already satisfied: python-dateutil>=2.7 in c:\\users\\acer\\appdata\\local\\packages\\pythonsoftwarefoundation.python.3.11_qbz5n2kfra8p0\\localcache\\local-packages\\python311\\site-packages (from matplotlib>=3.0.0->mlxtend) (2.8.2)\n",
            "Requirement already satisfied: pytz>=2020.1 in c:\\users\\acer\\appdata\\local\\packages\\pythonsoftwarefoundation.python.3.11_qbz5n2kfra8p0\\localcache\\local-packages\\python311\\site-packages (from pandas>=0.24.2->mlxtend) (2024.2)\n",
            "Requirement already satisfied: tzdata>=2022.7 in c:\\users\\acer\\appdata\\local\\packages\\pythonsoftwarefoundation.python.3.11_qbz5n2kfra8p0\\localcache\\local-packages\\python311\\site-packages (from pandas>=0.24.2->mlxtend) (2024.2)\n",
            "Requirement already satisfied: threadpoolctl>=3.1.0 in c:\\users\\acer\\appdata\\local\\packages\\pythonsoftwarefoundation.python.3.11_qbz5n2kfra8p0\\localcache\\local-packages\\python311\\site-packages (from scikit-learn>=1.3.1->mlxtend) (3.5.0)\n",
            "Requirement already satisfied: six>=1.5 in c:\\users\\acer\\appdata\\local\\packages\\pythonsoftwarefoundation.python.3.11_qbz5n2kfra8p0\\localcache\\local-packages\\python311\\site-packages (from python-dateutil>=2.7->matplotlib>=3.0.0->mlxtend) (1.16.0)\n"
          ]
        },
        {
          "name": "stderr",
          "output_type": "stream",
          "text": [
            "\n",
            "[notice] A new release of pip is available: 24.0 -> 24.3.1\n",
            "[notice] To update, run: C:\\Users\\Acer\\AppData\\Local\\Microsoft\\WindowsApps\\PythonSoftwareFoundation.Python.3.11_qbz5n2kfra8p0\\python.exe -m pip install --upgrade pip\n"
          ]
        }
      ],
      "source": [
        "!pip install mlxtend"
      ]
    },
    {
      "cell_type": "code",
      "execution_count": 14,
      "metadata": {
        "id": "NWCj0U50gCge"
      },
      "outputs": [],
      "source": [
        "import pandas as pd\n",
        "from mlxtend.frequent_patterns import apriori\n",
        "from mlxtend.frequent_patterns import association_rules\n"
      ]
    },
    {
      "cell_type": "code",
      "execution_count": 15,
      "metadata": {
        "colab": {
          "base_uri": "https://localhost:8080/"
        },
        "id": "zNMdYZ97gCp7",
        "outputId": "88bfc37a-67eb-4c5e-f4e4-c7fcc325a194"
      },
      "outputs": [
        {
          "name": "stdout",
          "output_type": "stream",
          "text": [
            "Dataset:                 0           1                 2\n",
            "0   Member_number        Date   itemDescription\n",
            "1            1808  21-07-2015    tropical fruit\n",
            "2            2552  05-01-2015        whole milk\n",
            "3            2300  19-09-2015         pip fruit\n",
            "4            1187  12-12-2015  other vegetables\n",
            "5            3037  01-02-2015        whole milk\n",
            "6            4941  14-02-2015        rolls/buns\n",
            "7            4501  08-05-2015  other vegetables\n",
            "8            3803  23-12-2015        pot plants\n",
            "9            2762  20-03-2015        whole milk\n",
            "10           4119  12-02-2015    tropical fruit\n",
            "11           1340  24-02-2015      citrus fruit\n",
            "12           2193  14-04-2015              beef\n",
            "13           1997  21-07-2015       frankfurter\n",
            "14           4546  03-09-2015           chicken \n",
            "\n"
          ]
        }
      ],
      "source": [
        "# items_data= pd.read_csv(\"/content/Groceries_dataset.csv\",header=None)\n",
        "items_data= pd.read_csv(\"Groceries_dataset.csv\",header=None)\n",
        "print(\"Dataset:\", items_data.head(15),\"\\n\")\n"
      ]
    },
    {
      "cell_type": "code",
      "execution_count": 16,
      "metadata": {
        "colab": {
          "base_uri": "https://localhost:8080/",
          "height": 515
        },
        "id": "cJviQ30ZgbCk",
        "outputId": "d23a14c2-9cb5-4645-f91e-7c2a27cf25d2"
      },
      "outputs": [
        {
          "data": {
            "text/plain": [
              "0        Member_number\n",
              "1                 1808\n",
              "2                 2552\n",
              "3                 2300\n",
              "4                 1187\n",
              "             ...      \n",
              "38761             4471\n",
              "38762             2022\n",
              "38763             1097\n",
              "38764             1510\n",
              "38765             1521\n",
              "Name: 0, Length: 38766, dtype: object"
            ]
          },
          "execution_count": 16,
          "metadata": {},
          "output_type": "execute_result"
        }
      ],
      "source": [
        "items_data[0]"
      ]
    },
    {
      "cell_type": "code",
      "execution_count": 17,
      "metadata": {
        "colab": {
          "base_uri": "https://localhost:8080/"
        },
        "id": "DBxPFhDWgSLt",
        "outputId": "3f59b841-89e8-4e21-9578-0513fdb3ee68"
      },
      "outputs": [
        {
          "name": "stdout",
          "output_type": "stream",
          "text": [
            "Total number of unique items in a column with index 0: 3899 \n",
            " ['Member_number' '1808' '2552' ... '3607' '4587' '2417']\n"
          ]
        }
      ],
      "source": [
        "unique_items = (items_data[0].unique())\n",
        "print(\"Total number of unique items in a column with index 0:\", len(unique_items), \"\\n\", unique_items)"
      ]
    },
    {
      "cell_type": "code",
      "execution_count": 18,
      "metadata": {
        "colab": {
          "base_uri": "https://localhost:8080/"
        },
        "id": "-ay-nS0CgSQw",
        "outputId": "6c2a2b25-632c-4d1d-f084-f25f4c3b7bc1"
      },
      "outputs": [],
      "source": [
        "encoded_vals=[]\n",
        "\n",
        "for i, rows in items_data.iterrows():\n",
        "    labels={}\n",
        "    uncommons=list(set(unique_items)-set(rows))\n",
        "    commons=list(set(unique_items).intersection(rows))\n",
        "\n",
        "    for un in uncommons:\n",
        "        labels[un] = 0\n",
        "    for com in commons:\n",
        "        labels[com] = 1\n",
        "    encoded_vals.append(labels)"
      ]
    },
    {
      "cell_type": "code",
      "execution_count": 19,
      "metadata": {
        "colab": {
          "base_uri": "https://localhost:8080/"
        },
        "id": "JbZq0TFXgSTo",
        "outputId": "3ba6b0a6-f9ed-478e-fed9-76ee9bbf09cf"
      },
      "outputs": [
        {
          "name": "stdout",
          "output_type": "stream",
          "text": [
            "\n",
            "One hot encoded data:\n",
            "    3963  3159  4579  4444  4813  1854  3606  2411  2916  3068  ...  1312  \\\n",
            "0     0     0     0     0     0     0     0     0     0     0  ...     0   \n",
            "1     0     0     0     0     0     0     0     0     0     0  ...     0   \n",
            "2     0     0     0     0     0     0     0     0     0     0  ...     0   \n",
            "3     0     0     0     0     0     0     0     0     0     0  ...     0   \n",
            "4     0     0     0     0     0     0     0     0     0     0  ...     0   \n",
            "5     0     0     0     0     0     0     0     0     0     0  ...     0   \n",
            "6     0     0     0     0     0     0     0     0     0     0  ...     0   \n",
            "7     0     0     0     0     0     0     0     0     0     0  ...     0   \n",
            "8     0     0     0     0     0     0     0     0     0     0  ...     0   \n",
            "9     0     0     0     0     0     0     0     0     0     0  ...     0   \n",
            "\n",
            "   1339  3729  1118  4008  3287  2538  1552  2728  Member_number  \n",
            "0     0     0     0     0     0     0     0     0              1  \n",
            "1     0     0     0     0     0     0     0     0              0  \n",
            "2     0     0     0     0     0     0     0     0              0  \n",
            "3     0     0     0     0     0     0     0     0              0  \n",
            "4     0     0     0     0     0     0     0     0              0  \n",
            "5     0     0     0     0     0     0     0     0              0  \n",
            "6     0     0     0     0     0     0     0     0              0  \n",
            "7     0     0     0     0     0     0     0     0              0  \n",
            "8     0     0     0     0     0     0     0     0              0  \n",
            "9     0     0     0     0     0     0     0     0              0  \n",
            "\n",
            "[10 rows x 3899 columns] \n",
            "\n"
          ]
        }
      ],
      "source": [
        "encoded_data = pd.DataFrame(encoded_vals)\n",
        "print(\"\\nOne hot encoded data:\\n\", encoded_data.head(10),\"\\n\")\n"
      ]
    },
    {
      "cell_type": "code",
      "execution_count": 20,
      "metadata": {
        "colab": {
          "base_uri": "https://localhost:8080/"
        },
        "id": "GE7hRCcjgSWT",
        "outputId": "04f0e939-ede4-4e5e-a1c6-6dcfcb3cbc99"
      },
      "outputs": [
        {
          "name": "stderr",
          "output_type": "stream",
          "text": [
            "C:\\Users\\Acer\\AppData\\Local\\Packages\\PythonSoftwareFoundation.Python.3.11_qbz5n2kfra8p0\\LocalCache\\local-packages\\Python311\\site-packages\\mlxtend\\frequent_patterns\\fpcommon.py:161: DeprecationWarning: DataFrames with non-bool types result in worse computationalperformance and their support might be discontinued in the future.Please use a DataFrame with bool type\n",
            "  warnings.warn(\n"
          ]
        },
        {
          "name": "stdout",
          "output_type": "stream",
          "text": [
            "\n",
            "Top 15 frequent items:\n",
            " Empty DataFrame\n",
            "Columns: [support, itemsets]\n",
            "Index: [] \n",
            "\n"
          ]
        }
      ],
      "source": [
        "frequent_items = apriori(encoded_data, min_support=0.0085, use_colnames=True, verbose=1)\n",
        "print(\"Top 15 frequent items:\\n\", frequent_items.head(15),\"\\n\")"
      ]
    },
    {
      "cell_type": "code",
      "execution_count": 21,
      "metadata": {
        "colab": {
          "base_uri": "https://localhost:8080/"
        },
        "id": "1zt6ZZIsgSYi",
        "outputId": "0b3d25bd-c0e6-4944-f2cb-9c2414dfeef0"
      },
      "outputs": [
        {
          "ename": "TypeError",
          "evalue": "association_rules() missing 1 required positional argument: 'num_itemsets'",
          "output_type": "error",
          "traceback": [
            "\u001b[1;31m---------------------------------------------------------------------------\u001b[0m",
            "\u001b[1;31mTypeError\u001b[0m                                 Traceback (most recent call last)",
            "Cell \u001b[1;32mIn[21], line 1\u001b[0m\n\u001b[1;32m----> 1\u001b[0m association_rule_generated_confidence\u001b[38;5;241m=\u001b[39m \u001b[43massociation_rules\u001b[49m\u001b[43m(\u001b[49m\u001b[43mfrequent_items\u001b[49m\u001b[43m,\u001b[49m\u001b[43m \u001b[49m\u001b[43mmetric\u001b[49m\u001b[38;5;241;43m=\u001b[39;49m\u001b[38;5;124;43m\"\u001b[39;49m\u001b[38;5;124;43mconfidence\u001b[39;49m\u001b[38;5;124;43m\"\u001b[39;49m\u001b[43m,\u001b[49m\u001b[43m \u001b[49m\u001b[43mmin_threshold\u001b[49m\u001b[38;5;241;43m=\u001b[39;49m\u001b[38;5;241;43m0.25\u001b[39;49m\u001b[43m)\u001b[49m\n\u001b[0;32m      2\u001b[0m \u001b[38;5;28mprint\u001b[39m(\u001b[38;5;124m\"\u001b[39m\u001b[38;5;124massociation rules generated through confidence metrics:\u001b[39m\u001b[38;5;130;01m\\n\u001b[39;00m\u001b[38;5;124m\"\u001b[39m, association_rule_generated_confidence\u001b[38;5;241m.\u001b[39mhead(\u001b[38;5;241m15\u001b[39m),\u001b[38;5;124m\"\u001b[39m\u001b[38;5;130;01m\\n\u001b[39;00m\u001b[38;5;124m\"\u001b[39m)\n",
            "\u001b[1;31mTypeError\u001b[0m: association_rules() missing 1 required positional argument: 'num_itemsets'"
          ]
        }
      ],
      "source": [
        "association_rule_generated_confidence= association_rules(frequent_items, metric=\"confidence\", min_threshold=0.25)\n",
        "print(\"association rules generated through confidence metrics:\\n\", association_rule_generated_confidence.head(15),\"\\n\")\n"
      ]
    },
    {
      "cell_type": "code",
      "execution_count": null,
      "metadata": {
        "id": "XJCZFQgkgSaz"
      },
      "outputs": [],
      "source": [
        "association_rule_generated_confidence.to_csv(\"association_rule_generated_confidence.csv\")\n"
      ]
    },
    {
      "cell_type": "markdown",
      "metadata": {
        "id": "CwVWPjFeZiGi"
      },
      "source": [
        "##FP-Growth"
      ]
    },
    {
      "cell_type": "code",
      "execution_count": 10,
      "metadata": {
        "colab": {
          "base_uri": "https://localhost:8080/"
        },
        "id": "K36d3fvdYexq",
        "outputId": "09c766c8-9021-4571-b260-793db3772846"
      },
      "outputs": [
        {
          "name": "stderr",
          "output_type": "stream",
          "text": [
            "/usr/local/lib/python3.10/dist-packages/ipykernel/ipkernel.py:283: DeprecationWarning: `should_run_async` will not call `transform_cell` automatically in the future. Please pass the result to `transformed_cell` argument and any exception that happen during thetransform in `preprocessing_exc_tuple` in IPython 7.17 and above.\n",
            "  and should_run_async(code)\n"
          ]
        }
      ],
      "source": [
        "# # Install necessary libraries\n",
        "# !pip install mlxtend\n",
        "\n",
        "# import pandas as pd\n",
        "from mlxtend.frequent_patterns import fpgrowth\n",
        "from mlxtend.frequent_patterns import association_rules"
      ]
    },
    {
      "cell_type": "code",
      "execution_count": null,
      "metadata": {
        "id": "db_onrCuXt0l"
      },
      "outputs": [],
      "source": [
        "\n",
        "\n",
        "# # Load dataset\n",
        "# items_data = pd.read_csv(\"/content/Grocery_data.csv\", header=None)\n",
        "# print(\"Dataset:\", items_data.head(15),\"\\n\")\n",
        "\n",
        "# # Extract unique items\n",
        "# unique_items = items_data[0].unique()\n",
        "# print(\"Total number of unique items in a column with index 0:\", len(unique_items), \"\\n\", unique_items)\n",
        "\n",
        "# # One-hot encoding the dataset\n",
        "# encoded_vals = []\n",
        "# for i, rows in items_data.iterrows():\n",
        "#     labels = {}\n",
        "#     uncommons = list(set(unique_items) - set(rows))\n",
        "#     commons = list(set(unique_items).intersection(rows))\n",
        "\n",
        "#     for un in uncommons:\n",
        "#         labels[un] = 0\n",
        "#     for com in commons:\n",
        "#         labels[com] = 1\n",
        "#     encoded_vals.append(labels)\n",
        "\n",
        "# encoded_data = pd.DataFrame(encoded_vals)\n",
        "# print(\"\\nOne hot encoded data:\\n\", encoded_data.head(10), \"\\n\")\n",
        "\n",
        "\n",
        "\n",
        "\n",
        "\n",
        "\n"
      ]
    },
    {
      "cell_type": "code",
      "execution_count": 11,
      "metadata": {
        "colab": {
          "base_uri": "https://localhost:8080/"
        },
        "id": "77OQrBFjYmJH",
        "outputId": "68c8d69e-638c-4e0e-82e1-09778f5c902a"
      },
      "outputs": [
        {
          "name": "stdout",
          "output_type": "stream",
          "text": [
            "Top 15 frequent items (FP-Growth):\n",
            "     support           itemsets\n",
            "0     0.245    (mineral water)\n",
            "1     0.141        (green tea)\n",
            "2     0.083   (low fat yogurt)\n",
            "3     0.083           (shrimp)\n",
            "4     0.076        (olive oil)\n",
            "5     0.062  (frozen smoothie)\n",
            "6     0.044            (honey)\n",
            "7     0.043     (tomato juice)\n",
            "8     0.042           (salmon)\n",
            "9     0.035          (avocado)\n",
            "10    0.028             (yams)\n",
            "11    0.028          (almonds)\n",
            "12    0.025     (energy drink)\n",
            "13    0.017   (vegetables mix)\n",
            "14    0.011     (green grapes) \n",
            "\n"
          ]
        },
        {
          "name": "stderr",
          "output_type": "stream",
          "text": [
            "/usr/local/lib/python3.10/dist-packages/ipykernel/ipkernel.py:283: DeprecationWarning: `should_run_async` will not call `transform_cell` automatically in the future. Please pass the result to `transformed_cell` argument and any exception that happen during thetransform in `preprocessing_exc_tuple` in IPython 7.17 and above.\n",
            "  and should_run_async(code)\n",
            "/usr/local/lib/python3.10/dist-packages/mlxtend/frequent_patterns/fpcommon.py:109: DeprecationWarning: DataFrames with non-bool types result in worse computationalperformance and their support might be discontinued in the future.Please use a DataFrame with bool type\n",
            "  warnings.warn(\n"
          ]
        }
      ],
      "source": [
        "# Apply FP-Growth algorithm\n",
        "frequent_items_fp_growth = fpgrowth(encoded_data, min_support=0.0085, use_colnames=True)\n",
        "print(\"Top 15 frequent items (FP-Growth):\\n\", frequent_items_fp_growth.head(15), \"\\n\")"
      ]
    },
    {
      "cell_type": "code",
      "execution_count": 12,
      "metadata": {
        "colab": {
          "base_uri": "https://localhost:8080/"
        },
        "id": "-zlcta28Yo9Q",
        "outputId": "f2a5ef69-49fb-4dde-f815-6f7e2f2d512b"
      },
      "outputs": [
        {
          "name": "stdout",
          "output_type": "stream",
          "text": [
            "Association rules generated through confidence metrics (FP-Growth):\n",
            "                    antecedents      consequents  antecedent support  \\\n",
            "0   (green tea, mineral water)      (chocolate)               0.034   \n",
            "1       (chocolate, green tea)  (mineral water)               0.022   \n",
            "2             (low fat yogurt)  (mineral water)               0.083   \n",
            "3             (low fat yogurt)           (eggs)               0.083   \n",
            "4                     (shrimp)  (mineral water)               0.083   \n",
            "5                     (shrimp)      (chocolate)               0.083   \n",
            "6                     (shrimp)           (eggs)               0.083   \n",
            "7                     (shrimp)           (milk)               0.083   \n",
            "8      (shrimp, mineral water)           (eggs)               0.030   \n",
            "9               (shrimp, eggs)  (mineral water)               0.025   \n",
            "10         (shrimp, spaghetti)  (mineral water)               0.020   \n",
            "11     (shrimp, mineral water)      (spaghetti)               0.030   \n",
            "12              (shrimp, milk)  (mineral water)               0.021   \n",
            "13     (shrimp, mineral water)           (milk)               0.030   \n",
            "14                 (olive oil)  (mineral water)               0.076   \n",
            "\n",
            "    consequent support  support  confidence      lift  leverage  conviction  \\\n",
            "0                0.188    0.011    0.323529  1.720901  0.004608    1.200348   \n",
            "1                0.245    0.011    0.500000  2.040816  0.005610    1.510000   \n",
            "2                0.245    0.027    0.325301  1.327760  0.006665    1.119018   \n",
            "3                0.207    0.026    0.313253  1.513300  0.008819    1.154719   \n",
            "4                0.245    0.030    0.361446  1.475289  0.009665    1.182358   \n",
            "5                0.188    0.022    0.265060  1.409895  0.006396    1.104852   \n",
            "6                0.207    0.025    0.301205  1.455096  0.007819    1.134810   \n",
            "7                0.136    0.021    0.253012  1.860383  0.009712    1.156645   \n",
            "8                0.207    0.012    0.400000  1.932367  0.005790    1.321667   \n",
            "9                0.245    0.012    0.480000  1.959184  0.005875    1.451923   \n",
            "10               0.245    0.009    0.450000  1.836735  0.004100    1.372727   \n",
            "11               0.185    0.009    0.300000  1.621622  0.003450    1.164286   \n",
            "12               0.245    0.010    0.476190  1.943635  0.004855    1.441364   \n",
            "13               0.136    0.010    0.333333  2.450980  0.005920    1.296000   \n",
            "14               0.245    0.035    0.460526  1.879699  0.016380    1.399512   \n",
            "\n",
            "    zhangs_metric  \n",
            "0        0.433653  \n",
            "1        0.521472  \n",
            "2        0.269195  \n",
            "3        0.369893  \n",
            "4        0.351327  \n",
            "5        0.317042  \n",
            "6        0.341069  \n",
            "7        0.504336  \n",
            "8        0.497423  \n",
            "9        0.502137  \n",
            "10       0.464853  \n",
            "11       0.395189  \n",
            "12       0.495914  \n",
            "13       0.610309  \n",
            "14       0.506494   \n",
            "\n"
          ]
        },
        {
          "name": "stderr",
          "output_type": "stream",
          "text": [
            "/usr/local/lib/python3.10/dist-packages/ipykernel/ipkernel.py:283: DeprecationWarning: `should_run_async` will not call `transform_cell` automatically in the future. Please pass the result to `transformed_cell` argument and any exception that happen during thetransform in `preprocessing_exc_tuple` in IPython 7.17 and above.\n",
            "  and should_run_async(code)\n"
          ]
        }
      ],
      "source": [
        "# Generate association rules using confidence metric\n",
        "association_rules_fp_growth = association_rules(frequent_items_fp_growth, metric=\"confidence\", min_threshold=0.25)\n",
        "print(\"Association rules generated through confidence metrics (FP-Growth):\\n\", association_rules_fp_growth.head(15), \"\\n\")"
      ]
    },
    {
      "cell_type": "code",
      "execution_count": null,
      "metadata": {
        "id": "n1z3U7UNYpOY"
      },
      "outputs": [],
      "source": [
        "\n",
        " # Save the association rules to a CSV file\n",
        "association_rules_fp_growth.to_csv(\"association_rule_fp_growth.csv\")\n"
      ]
    }
  ],
  "metadata": {
    "colab": {
      "provenance": []
    },
    "kernelspec": {
      "display_name": "Python 3",
      "name": "python3"
    },
    "language_info": {
      "codemirror_mode": {
        "name": "ipython",
        "version": 3
      },
      "file_extension": ".py",
      "mimetype": "text/x-python",
      "name": "python",
      "nbconvert_exporter": "python",
      "pygments_lexer": "ipython3",
      "version": "3.11.9"
    }
  },
  "nbformat": 4,
  "nbformat_minor": 0
}
